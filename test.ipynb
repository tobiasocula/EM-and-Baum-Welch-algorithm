{
 "cells": [
  {
   "cell_type": "code",
   "execution_count": null,
   "id": "f143dce4",
   "metadata": {},
   "outputs": [
    {
     "name": "stdout",
     "output_type": "stream",
     "text": [
      "[ 0.02   0.016  0.012  0.008  0.004  0.    -0.02  -0.016 -0.012 -0.008\n",
      " -0.004  0.   ]\n",
      "[-0.02  -0.016 -0.012 -0.008 -0.004  0.   ]\n",
      "[-0.02  -0.016 -0.012 -0.008 -0.004  0.   ]\n",
      "\n",
      "[ 0.02   0.016  0.012  0.008  0.004  0.     0.    -0.004 -0.008 -0.012\n",
      " -0.016 -0.02 ]\n"
     ]
    },
    {
     "name": "stderr",
     "output_type": "stream",
     "text": [
      "C:\\Users\\tobia\\AppData\\Local\\Temp\\ipykernel_27508\\3758265830.py:32: UserWarning: No artists with labels found to put in legend.  Note that artists whose label start with an underscore are ignored when legend() is called with no argument.\n",
      "  plt.legend()\n"
     ]
    },
    {
     "data": {
      "image/png": "[encoded data removed]",
      "text/plain": [
       "<Figure size 640x480 with 1 Axes>"
      ]
     },
     "metadata": {},
     "output_type": "display_data"
    }
   ],
   "source": [
    "import matplotlib.pyplot as plt\n",
    "import numpy as np\n",
    "\n",
    "width = 0.2  # width of each bar\n",
    "\n",
    "m = 3\n",
    "n = 6\n",
    "indices = np.arange(m)\n",
    "offsets = (indices - (n - 1) / 2) * width\n",
    "offsets[:n//2] -= 0.02\n",
    "offsets[n//2:] += 0.02\n",
    "\n",
    "x = np.arange(m)\n",
    "\n",
    "for j in range(m):\n",
    "    offsets = np.empty(2 * n)\n",
    "    offsets[n:] = np.linspace(-0.02, 0, n)[::-1]\n",
    "    offsets[:n] = np.linspace(0.02, 0, n)\n",
    "    plt.bar(x[m], )\n",
    "\n",
    "\n",
    "\n",
    "plt.legend()\n",
    "plt.show()\n"
   ]
  },
  {
   "cell_type": "code",
   "execution_count": null,
   "id": "5fcad208",
   "metadata": {},
   "outputs": [],
   "source": []
  }
 ],
 "metadata": {
  "kernelspec": {
   "display_name": "Python 3",
   "language": "python",
   "name": "python3"
  },
  "language_info": {
   "codemirror_mode": {
    "name": "ipython",
    "version": 3
   },
   "file_extension": ".py",
   "mimetype": "text/x-python",
   "name": "python",
   "nbconvert_exporter": "python",
   "pygments_lexer": "ipython3",
   "version": "3.11.0"
  }
 },
 "nbformat": 4,
 "nbformat_minor": 5
}
